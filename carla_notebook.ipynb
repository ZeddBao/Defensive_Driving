{
 "cells": [
  {
   "cell_type": "code",
   "execution_count": 2,
   "metadata": {},
   "outputs": [],
   "source": [
    "import carla\n",
    "import matplotlib.pyplot as plt\n",
    "import numpy as np"
   ]
  },
  {
   "cell_type": "code",
   "execution_count": 3,
   "metadata": {},
   "outputs": [],
   "source": [
    "# Connect to the server\n",
    "# 连接服务器\n",
    "client = carla.Client('127.0.0.1', 2000)\n",
    "client.set_timeout(10.0)\n",
    "world = client.load_world('Town01')\n",
    "traffic_manager = client.get_trafficmanager(8000)\n",
    "town_map = world.get_map()\n"
   ]
  },
  {
   "cell_type": "code",
   "execution_count": 4,
   "metadata": {},
   "outputs": [],
   "source": [
    "# segment_waypoints_list = town_map.generate_waypoints(5.0)\n",
    "# for waypoint in segment_waypoints_list:\n",
    "#     # 画出车道线\n",
    "#     if waypoint.is_junction:\n",
    "#         plt.plot(waypoint.transform.location.x, waypoint.transform.location.y, 'bo', markersize=0.1)\n",
    "#     else:\n",
    "#         plt.plot(waypoint.transform.location.x, waypoint.transform.location.y, 'ro', markersize=0.1)\n",
    "    \n",
    "\n",
    "# plt.show()"
   ]
  },
  {
   "cell_type": "code",
   "execution_count": 5,
   "metadata": {},
   "outputs": [],
   "source": [
    "# 存下waypoints\n",
    "# import pickle\n",
    "\n",
    "# waypoints_list = []\n",
    "# for waypoint in waypoints:\n",
    "#     waypoints_list.append([waypoint.transform.location.x, waypoint.transform.location.y, waypoint.transform.location.z])\n",
    "\n",
    "# with open('town01_waypoints.pkl', 'wb') as f:\n",
    "#     pickle.dump(waypoints_list, f)"
   ]
  },
  {
   "cell_type": "code",
   "execution_count": 6,
   "metadata": {},
   "outputs": [],
   "source": [
    "# import pickle\n",
    "# with open('town01_waypoints.pkl', 'rb') as f:\n",
    "#     waypoints_list = pickle.load(f)\n",
    "\n",
    "# for waypoint in waypoints_list:\n",
    "#     plt.plot(waypoint[0], waypoint[1], 'ro', markersize=0.1)\n",
    "\n",
    "# landmarks = town_map.get_all_landmarks()\n",
    "# for landmark in landmarks:\n",
    "#     # 画出地标\n",
    "#     plt.plot(landmark.transform.location.x, landmark.transform.location.y, 'bo', markersize=0.1)\n",
    "#     # print('landmark:', landmark.transform.location.x, landmark.transform.location.y, landmark.transform.location.z)\n",
    "\n",
    "# plt.show()"
   ]
  },
  {
   "cell_type": "code",
   "execution_count": 7,
   "metadata": {},
   "outputs": [
    {
     "name": "stdout",
     "output_type": "stream",
     "text": [
      "spawn_points: 161.10308837890625 195.26976013183594 0.29999998211860657\n"
     ]
    }
   ],
   "source": [
    "import random\n",
    "\n",
    "# 生成随机的初始位置\n",
    "spawn_points = town_map.get_spawn_points()\n",
    "spawn_points_len = len(spawn_points)\n",
    "seed = random.randint(0, spawn_points_len-1)\n",
    "spawn_point = spawn_points[seed]\n",
    "print('spawn_points:', spawn_point.location.x, spawn_point.location.y, spawn_point.location.z)"
   ]
  },
  {
   "cell_type": "code",
   "execution_count": 8,
   "metadata": {},
   "outputs": [],
   "source": [
    "# def get_lane_waypoints(curr_waypoint, interval = 1, num = 100, towards = 'next'):\n",
    "\n",
    "#     pre_waypoints = []\n",
    "#     next_waypoints = []\n",
    "#     pre_branch_num = 1\n",
    "#     next_branch_num = 1\n",
    "\n",
    "#     for i in range(num-1):\n",
    "#         pre_waypoint_list = curr_waypoint.previous((i+1)*interval)\n",
    "#         next_waypoint_list = curr_waypoint.next((i+1)*interval)\n",
    "#         for waypoint in pre_waypoint_list:\n",
    "#             if waypoint.is_junction:\n",
    "#                 pre_branch_num = len(pre_waypoint_list)\n",
    "#                 continue\n",
    "#             pre_waypoints.append([waypoint.transform.location.x, waypoint.transform.location.y, waypoint.transform.location.z])\n",
    "#         for waypoint in next_waypoint_list:\n",
    "#             if waypoint.is_junction:\n",
    "#                 print(len(next_waypoint_list))\n",
    "#                 continue\n",
    "#             next_waypoints.append([waypoint.transform.location.x, waypoint.transform.location.y, waypoint.transform.location.z])\n",
    "            \n",
    "#     return pre_waypoints, next_waypoints\n",
    "\n"
   ]
  },
  {
   "cell_type": "code",
   "execution_count": 116,
   "metadata": {},
   "outputs": [],
   "source": [
    "def get_all_segment_lanes(curr_waypoint, interval = 1, total_search_depth = 100, segment_waypoints_num = 10):\n",
    "\n",
    "    segment_lanes_list = []\n",
    "    breakpoint_stack = []\n",
    "\n",
    "    def get_segment_lane(curr_waypoint, towards, interval, search_depth, segment_waypoints_num):\n",
    "        '''\n",
    "        @param curr_waypoint: 当前车道的waypoint\n",
    "        @param towards: 方向，'next'表示向前，'previous'表示向后\n",
    "        @param interval: 距离间隔\n",
    "        @param num: 生成的waypoints的数量\n",
    "        @return: 返回生成的waypoints, np.array\n",
    "        '''\n",
    "\n",
    "        nonlocal breakpoint_stack\n",
    "        segment_waypoints_list = []\n",
    "        next_waypoint = curr_waypoint\n",
    "\n",
    "        for i in range(search_depth):\n",
    "            if towards == 'next':\n",
    "                next_waypoint_list = next_waypoint.next(interval)\n",
    "            elif towards == 'previous':\n",
    "                next_waypoint_list = next_waypoint.previous(interval)\n",
    "            \n",
    "            next_waypoint_list_len = len(next_waypoint_list)\n",
    "            if next_waypoint_list is None:\n",
    "                break\n",
    "            elif next_waypoint_list_len > 1 or i == segment_waypoints_num:\n",
    "                breakpoint_stack += list(zip(next_waypoint_list, [search_depth-i]*next_waypoint_list_len))\n",
    "                break\n",
    "            elif next_waypoint_list_len == 1:\n",
    "                # segment_waypoints_list.append([next_waypoint.transform.location.x, next_waypoint.transform.location.y, next_waypoint.transform.location.z])\n",
    "                # is_turn_left_allowed = next_waypoint.lane_change == carla.libcarla.LaneChange.Left or next_waypoint.lane_change == carla.libcarla.LaneChange.Both\n",
    "                # is_turn_right_allowed = next_waypoint.lane_change == carla.libcarla.LaneChange.Right or next_waypoint.lane_change == carla.libcarla.LaneChange.Both\n",
    "                vec_forward = next_waypoint.transform.get_forward_vector()\n",
    "                vec_right = next_waypoint.transform.get_right_vector()\n",
    "                lane_width = next_waypoint.lane_width\n",
    "                segment_waypoints_list.append([\n",
    "                    next_waypoint.transform.location.x, next_waypoint.transform.location.y,     # 0:2 # x, y\n",
    "                    vec_forward.x, vec_forward.y,                                               # 2:4 # vec_forward\n",
    "                    0,                                                                          # 4 # step\n",
    "                    int(next_waypoint.is_junction),                                             # 5 # is_junction\n",
    "                    lane_width,                                                                 # 6 # lane_width\n",
    "                    vec_right.x, vec_right.y])                                                  # 7:9 # vec_right\n",
    "                if towards == 'next':\n",
    "                    next_waypoint = next_waypoint.next(interval)[0]\n",
    "                elif towards == 'previous':\n",
    "                    next_waypoint = next_waypoint.previous(interval)[0]\n",
    "\n",
    "        # 处理收集的一小段车道的 waypoints\n",
    "        len_waypoints = len(segment_waypoints_list)\n",
    "        segment_waypoints_list = np.array(segment_waypoints_list)\n",
    "\n",
    "        if len_waypoints < segment_waypoints_num and len_waypoints > 0:\n",
    "            segment_waypoints_list = np.concatenate((segment_waypoints_list, np.tile(segment_waypoints_list[-1], (segment_waypoints_num-len_waypoints, 1))), axis=0)  # 用最后一个waypoint填充\n",
    "        elif len_waypoints == 0:\n",
    "            segment_waypoints_list = None\n",
    "            \n",
    "        return segment_waypoints_list\n",
    "    \n",
    "    breakpoint_stack.append((curr_waypoint, total_search_depth))\n",
    "    while breakpoint_stack:\n",
    "        (satrt_waypoint, num) = breakpoint_stack.pop()\n",
    "        next_lane_waypoints = get_segment_lane(satrt_waypoint, 'next', interval, num, segment_waypoints_num)\n",
    "        # previous_lane_waypoints = get_lane_waypoints(curr_waypoint, 'previous', interval, num)\n",
    "\n",
    "        if next_lane_waypoints is not None:\n",
    "            segment_lanes_list.append(next_lane_waypoints)\n",
    "        # if previous_lane_waypoints is not None:\n",
    "        #     seperate_lanes.append(previous_lane_waypoints)\n",
    "\n",
    "    breakpoint_stack.append((curr_waypoint, total_search_depth))\n",
    "    while breakpoint_stack:\n",
    "        (satrt_waypoint, num) = breakpoint_stack.pop()\n",
    "        # next_lane_waypoints = get_lane_waypoints(curr_waypoint, 'next', interval, num)\n",
    "        previous_lane_waypoints = get_segment_lane(satrt_waypoint, 'previous', interval, num, segment_waypoints_num)\n",
    "\n",
    "        # if next_lane_waypoints is not None:\n",
    "        #     seperate_lanes.append(next_lane_waypoints)\n",
    "        if previous_lane_waypoints is not None:\n",
    "            segment_lanes_list.append(previous_lane_waypoints)\n",
    "\n",
    "    return segment_lanes_list"
   ]
  },
  {
   "cell_type": "code",
   "execution_count": 119,
   "metadata": {},
   "outputs": [
    {
     "name": "stdout",
     "output_type": "stream",
     "text": [
      "ego: Driving\n",
      "left: Driving\n",
      "right: Shoulder\n"
     ]
    },
    {
     "data": {
      "text/plain": [
       "[<matplotlib.lines.Line2D at 0x7fa8f0279710>]"
      ]
     },
     "execution_count": 119,
     "metadata": {},
     "output_type": "execute_result"
    },
    {
     "data": {
      "image/png": "[encoded data removed]",
      "text/plain": [
       "<Figure size 640x480 with 1 Axes>"
      ]
     },
     "metadata": {},
     "output_type": "display_data"
    },
    {
     "ename": "",
     "evalue": "",
     "output_type": "error",
     "traceback": [
      "\u001b[1;31mThe Kernel crashed while executing code in the current cell or a previous cell. \n",
      "\u001b[1;31mPlease review the code in the cell(s) to identify a possible cause of the failure. \n",
      "\u001b[1;31mClick <a href='https://aka.ms/vscodeJupyterKernelCrash'>here</a> for more info. \n",
      "\u001b[1;31mView Jupyter <a href='command:jupyter.viewOutput'>log</a> for further details."
     ]
    }
   ],
   "source": [
    "distance = 1\n",
    "search_depth = 100\n",
    "segment_waypoints_num = 20\n",
    "\n",
    "ego_location = spawn_point.location\n",
    "ego_waypoint = town_map.get_waypoint(ego_location)\n",
    "left_lane_waypoint = ego_waypoint.get_left_lane()\n",
    "right_lane_waypoint = ego_waypoint.get_right_lane()\n",
    "print('ego:', ego_waypoint.lane_type)\n",
    "print('left:', left_lane_waypoint.lane_type)\n",
    "print('right:', right_lane_waypoint.lane_type)\n",
    "\n",
    "if left_lane_waypoint.lane_type == carla.libcarla.LaneType.Driving:\n",
    "    left_lanes = get_all_segment_lanes(left_lane_waypoint, interval=distance,\n",
    "                                       total_search_depth=search_depth, segment_waypoints_num=segment_waypoints_num)\n",
    "    for lane in left_lanes:\n",
    "        plt.plot(lane[:, 0], lane[:, 1], markersize=0.1)\n",
    "    plt.plot(left_lane_waypoint.transform.location.x,\n",
    "             left_lane_waypoint.transform.location.y, 'go', markersize=5)\n",
    "\n",
    "\n",
    "if right_lane_waypoint.lane_type == carla.libcarla.LaneType.Driving:\n",
    "    right_lanes = get_all_segment_lanes(right_lane_waypoint, interval=distance,\n",
    "                                        total_search_depth=search_depth, segment_waypoints_num=segment_waypoints_num)\n",
    "\n",
    "    for lane in right_lanes:\n",
    "        plt.plot(lane[:, 0], lane[:, 1], markersize=0.1)\n",
    "    plt.plot(right_lane_waypoint.transform.location.x,\n",
    "             right_lane_waypoint.transform.location.y, 'bo', markersize=5)\n",
    "\n",
    "ego_lane_waypoints = get_all_segment_lanes(\n",
    "    ego_waypoint, interval=distance, total_search_depth=search_depth, segment_waypoints_num=segment_waypoints_num)\n",
    "for lane in ego_lane_waypoints:\n",
    "    plt.plot(lane[:, 0], lane[:, 1], markersize=0.1)\n",
    "plt.plot(ego_waypoint.transform.location.x,\n",
    "         ego_waypoint.transform.location.y, 'ro', markersize=5)\n",
    "\n",
    "\n",
    "def lateral_shift(origin, right_vec, shift):\n",
    "    right_vec_normalized = right_vec / np.linalg.norm(right_vec)\n",
    "    shifted_point = origin + right_vec_normalized * shift\n",
    "    return shifted_point\n",
    "\n",
    "\n",
    "example_lane = ego_lane_waypoints[0]\n",
    "lane_width = example_lane[0][6]\n",
    "shift_lane = lateral_shift(\n",
    "    example_lane[:, 0:2], example_lane[:, 7:9], lane_width)\n",
    "plt.plot(shift_lane[:, 0], shift_lane[:, 1], markersize=0.1)"
   ]
  }
 ],
 "metadata": {
  "kernelspec": {
   "display_name": "carla",
   "language": "python",
   "name": "python3"
  },
  "language_info": {
   "codemirror_mode": {
    "name": "ipython",
    "version": 3
   },
   "file_extension": ".py",
   "mimetype": "text/x-python",
   "name": "python",
   "nbconvert_exporter": "python",
   "pygments_lexer": "ipython3",
   "version": "3.7.12"
  }
 },
 "nbformat": 4,
 "nbformat_minor": 2
}
