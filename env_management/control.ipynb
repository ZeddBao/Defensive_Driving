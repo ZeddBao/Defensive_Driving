{
 "cells": [
  {
   "cell_type": "code",
   "execution_count": 1,
   "metadata": {},
   "outputs": [
    {
     "name": "stdout",
     "output_type": "stream",
     "text": [
      "d:\\PythonWorkspace\\Defensive_Driving\n"
     ]
    },
    {
     "data": {
      "text/plain": [
       "1801768"
      ]
     },
     "execution_count": 1,
     "metadata": {},
     "output_type": "execute_result"
    }
   ],
   "source": [
    "%cd ..\n",
    "\n",
    "import random\n",
    "import time\n",
    "import math\n",
    "import collections\n",
    "import weakref\n",
    "\n",
    "import carla\n",
    "\n",
    "from agents.navigation.behavior_agent import BehaviorAgent\n",
    "\n",
    "\n",
    "client = carla.Client('localhost', 2000)\n",
    "client.set_timeout(10.0)\n",
    "traffic_manager = client.get_trafficmanager(8000)\n",
    "\n",
    "# Retrieve the world that is currently running\n",
    "world = client.load_world('Town01')\n",
    "\n",
    "origin_settings = world.get_settings()\n",
    "\n",
    "# set sync mode\n",
    "settings = world.get_settings()\n",
    "settings.synchronous_mode = True\n",
    "settings.fixed_delta_seconds = 0.1\n",
    "world.apply_settings(settings)"
   ]
  },
  {
   "cell_type": "code",
   "execution_count": 2,
   "metadata": {},
   "outputs": [],
   "source": [
    "class CollisionSensor(object):\n",
    "    def __init__(self, parent_actor):\n",
    "        self.sensor = None\n",
    "        self.history = []\n",
    "        self._parent = parent_actor\n",
    "        world = self._parent.get_world()\n",
    "        bp = world.get_blueprint_library().find('sensor.other.collision')\n",
    "        self.sensor = world.spawn_actor(bp, carla.Transform(), attach_to=self._parent)\n",
    "        # We need to pass the lambda a weak reference to self to avoid circular\n",
    "        # reference.\n",
    "        weak_self = weakref.ref(self)\n",
    "        self.sensor.listen(lambda event: CollisionSensor._on_collision(weak_self, event))\n",
    "\n",
    "    def get_collision_history(self) -> dict:\n",
    "        history = collections.defaultdict(int)\n",
    "        for frame, intensity in self.history:\n",
    "            history[frame] += intensity\n",
    "        return history\n",
    "    \n",
    "    def is_collided(self) -> bool:\n",
    "        return self.history != []\n",
    "\n",
    "    @staticmethod\n",
    "    def _on_collision(weak_self, event):\n",
    "        self = weak_self()\n",
    "        if not self:\n",
    "            return\n",
    "        impulse = event.normal_impulse\n",
    "        intensity = math.sqrt(impulse.x**2 + impulse.y**2 + impulse.z**2)\n",
    "        self.history.append((event.frame, intensity))\n",
    "        if len(self.history) > 4000:\n",
    "            self.history.pop(0)"
   ]
  },
  {
   "cell_type": "code",
   "execution_count": 3,
   "metadata": {},
   "outputs": [
    {
     "name": "stdout",
     "output_type": "stream",
     "text": [
      "255\n"
     ]
    }
   ],
   "source": [
    " # read all valid spawn points\n",
    "all_default_spawn = world.get_map().get_spawn_points()\n",
    "print(len(all_default_spawn))\n",
    "# randomly choose one as the start point\n",
    "ego_spawn_point = all_default_spawn[190]\n",
    "ego_destination = all_default_spawn[118]\n",
    "enemy_spawn_point = all_default_spawn[109]\n",
    "enemy_destination = all_default_spawn[118]"
   ]
  },
  {
   "cell_type": "code",
   "execution_count": 4,
   "metadata": {},
   "outputs": [],
   "source": [
    "traffic_lights = world.get_actors().filter('traffic.traffic_light')\n",
    "for tl in traffic_lights:\n",
    "    tl.set_state(carla.TrafficLightState.Off)\n",
    "    tl.freeze(True)"
   ]
  },
  {
   "cell_type": "code",
   "execution_count": 5,
   "metadata": {},
   "outputs": [],
   "source": [
    "traffic_manager.set_global_distance_to_leading_vehicle(0)\n",
    "traffic_manager.global_percentage_speed_difference(100)"
   ]
  },
  {
   "cell_type": "code",
   "execution_count": 10,
   "metadata": {},
   "outputs": [
    {
     "name": "stdout",
     "output_type": "stream",
     "text": [
      "======== Success, Arrivied at Target Point!\n"
     ]
    },
    {
     "ename": "",
     "evalue": "",
     "output_type": "error",
     "traceback": [
      "\u001b[1;31m在当前单元格或上一个单元格中执行代码时 Kernel 崩溃。\n",
      "\u001b[1;31m请查看单元格中的代码，以确定故障的可能原因。\n",
      "\u001b[1;31m单击<a href='https://aka.ms/vscodeJupyterKernelCrash'>此处</a>了解详细信息。\n",
      "\u001b[1;31m有关更多详细信息，请查看 Jupyter <a href='command:jupyter.viewOutput'>log</a>。"
     ]
    }
   ],
   "source": [
    "try:\n",
    "    blueprint_library = world.get_blueprint_library()\n",
    "\n",
    "    # create the blueprint library\n",
    "    ego_vehicle_bp = blueprint_library.find('vehicle.audi.a2')\n",
    "    ego_vehicle_bp.set_attribute('color', '255, 0, 0')\n",
    "    truck_bp = blueprint_library.find('vehicle.audi.a2')\n",
    "    truck_bp.set_attribute('color', '0, 0, 255')\n",
    "\n",
    "    # spawn the vehicle\n",
    "    ego_vehicle = world.spawn_actor(ego_vehicle_bp, ego_spawn_point)\n",
    "    enemy_vehicle = world.spawn_actor(truck_bp, enemy_spawn_point)\n",
    "\n",
    "    # we need to tick the world once to let the client update the spawn position\n",
    "    world.tick()\n",
    "\n",
    "    # create the behavior agent\n",
    "    ego_agent = BehaviorAgent(ego_vehicle, behavior='cautious')\n",
    "    enemy_agent = BehaviorAgent(enemy_vehicle, behavior='aggressive')\n",
    "\n",
    "    ego_collision_sensor = CollisionSensor(ego_vehicle)\n",
    "\n",
    "\n",
    "    # generate the route\n",
    "    ego_agent.set_destination(ego_destination.location)\n",
    "    enemy_agent.set_destination(enemy_destination.location)\n",
    "\n",
    "    while True:\n",
    "        time.sleep(0.05)\n",
    "        # agent.run_step()\n",
    "\n",
    "        world.tick()\n",
    "        \n",
    "        if ego_agent.done() and enemy_agent.done() or ego_collision_sensor.is_collided():\n",
    "            print('======== Success, Arrivied at Target Point!')\n",
    "            break\n",
    "            \n",
    "        # top view\n",
    "        spectator = world.get_spectator()\n",
    "        transform = enemy_vehicle.get_transform()\n",
    "        spectator.set_transform(carla.Transform(transform.location + carla.Location(z=40),\n",
    "                                                carla.Rotation(pitch=-90)))\n",
    "\n",
    "        ego_agent.get_local_planner().set_speed(ego_vehicle.get_speed_limit())\n",
    "        ego_vehicle.apply_control(ego_agent.run_step(debug=True))\n",
    "        enemy_agent.get_local_planner().set_speed(enemy_vehicle.get_speed_limit())\n",
    "        enemy_vehicle.apply_control(enemy_agent.run_step(debug=True))\n",
    "\n",
    "finally:\n",
    "    world.apply_settings(origin_settings)\n",
    "    ego_vehicle.destroy()\n",
    "    enemy_vehicle.destroy()"
   ]
  },
  {
   "cell_type": "code",
   "execution_count": 7,
   "metadata": {},
   "outputs": [],
   "source": [
    "# ego_vehicle.destroy()\n",
    "# enemy_vehicle.destroy()"
   ]
  }
 ],
 "metadata": {
  "kernelspec": {
   "display_name": "carla",
   "language": "python",
   "name": "python3"
  },
  "language_info": {
   "codemirror_mode": {
    "name": "ipython",
    "version": 3
   },
   "file_extension": ".py",
   "mimetype": "text/x-python",
   "name": "python",
   "nbconvert_exporter": "python",
   "pygments_lexer": "ipython3",
   "version": "3.7.16"
  }
 },
 "nbformat": 4,
 "nbformat_minor": 2
}
