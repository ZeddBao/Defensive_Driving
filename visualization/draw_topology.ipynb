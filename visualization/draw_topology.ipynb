{
 "cells": [
  {
   "cell_type": "code",
   "execution_count": null,
   "metadata": {},
   "outputs": [],
   "source": [
    "def draw_topology(carla_topology, index):\n",
    "    \"\"\" Draws traffic signs and the roads network with sidewalks, parking and shoulders by generating waypoints\"\"\"\n",
    "    topology = [x[index] for x in carla_topology]\n",
    "    topology = sorted(topology, key=lambda w: w.transform.location.z)\n",
    "    set_waypoints = []\n",
    "    for waypoint in topology:\n",
    "        waypoints = [waypoint]\n",
    "\n",
    "        # Generate waypoints of a road id. Stop when road id differs\n",
    "        nxt = waypoint.next(1)\n",
    "        if len(nxt) > 0:\n",
    "            nxt = nxt[0]\n",
    "            while nxt.road_id == waypoint.road_id:\n",
    "                waypoints.append(nxt)\n",
    "                nxt = nxt.next(1)\n",
    "                if len(nxt) > 0:\n",
    "                    nxt = nxt[0]\n",
    "                else:\n",
    "                    break\n",
    "        set_waypoints.append(waypoints)\n",
    "\n",
    "    return set_waypoints"
   ]
  },
  {
   "cell_type": "code",
   "execution_count": null,
   "metadata": {},
   "outputs": [],
   "source": [
    "import carla\n",
    "import matplotlib.pyplot as plt\n",
    "\n",
    "client = carla.Client('localhost', 2000)\n",
    "client.set_timeout(10.0)\n",
    "world = client.load_world('Town01')\n",
    "carla_map = world.get_map()"
   ]
  },
  {
   "cell_type": "code",
   "execution_count": null,
   "metadata": {},
   "outputs": [],
   "source": [
    "carla_topology = carla_map.get_topology()\n",
    "print(carla_topology)"
   ]
  },
  {
   "cell_type": "code",
   "execution_count": null,
   "metadata": {},
   "outputs": [],
   "source": [
    "set_waypoints = draw_topology(carla_topology, 0)\n",
    "for waypoints in set_waypoints[:10]:\n",
    "    wp_x = [x.transform.location.x for x in waypoints]\n",
    "    wp_y = [x.transform.location.y for x in waypoints]\n",
    "    plt.plot(wp_x, wp_y)    "
   ]
  },
  {
   "cell_type": "code",
   "execution_count": null,
   "metadata": {},
   "outputs": [],
   "source": [
    "set_waypoints = draw_topology(carla_topology, 1)\n",
    "for waypoints in set_waypoints[:10]:\n",
    "    wp_x = [x.transform.location.x for x in waypoints]\n",
    "    wp_y = [x.transform.location.y for x in waypoints]\n",
    "    plt.plot(wp_x, wp_y)    "
   ]
  },
  {
   "cell_type": "code",
   "execution_count": null,
   "metadata": {},
   "outputs": [],
   "source": []
  }
 ],
 "metadata": {
  "kernelspec": {
   "display_name": "carla",
   "language": "python",
   "name": "python3"
  },
  "language_info": {
   "codemirror_mode": {
    "name": "ipython",
    "version": 3
   },
   "file_extension": ".py",
   "mimetype": "text/x-python",
   "name": "python",
   "nbconvert_exporter": "python",
   "pygments_lexer": "ipython3",
   "version": "3.7.16"
  }
 },
 "nbformat": 4,
 "nbformat_minor": 2
}
